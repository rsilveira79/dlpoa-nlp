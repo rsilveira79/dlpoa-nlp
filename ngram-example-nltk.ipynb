{
 "cells": [
  {
   "cell_type": "code",
   "execution_count": 28,
   "metadata": {
    "collapsed": true
   },
   "outputs": [],
   "source": [
    "import nltk\n",
    "from nltk import word_tokenize\n",
    "from nltk.util import ngrams\n",
    "from collections import Counter\n",
    "from pprint import pprint"
   ]
  },
  {
   "cell_type": "code",
   "execution_count": 29,
   "metadata": {
    "collapsed": true
   },
   "outputs": [],
   "source": [
    "corpus = \"Artificial intelligence is the future. Artificial intelligence is science fiction.\\\n",
    "Artificial intelligence is already part of our everyday lives. \\\n",
    "All those statements are true, it just depends on what flavor of AI you are referring to.\""
   ]
  },
  {
   "cell_type": "code",
   "execution_count": 30,
   "metadata": {},
   "outputs": [
    {
     "data": {
      "text/plain": [
       "['artificial',\n",
       " 'intelligence',\n",
       " 'is',\n",
       " 'the',\n",
       " 'future',\n",
       " '.',\n",
       " 'artificial',\n",
       " 'intelligence',\n",
       " 'is',\n",
       " 'science',\n",
       " 'fiction.artificial',\n",
       " 'intelligence',\n",
       " 'is',\n",
       " 'already',\n",
       " 'part',\n",
       " 'of',\n",
       " 'our',\n",
       " 'everyday',\n",
       " 'lives',\n",
       " '.',\n",
       " 'all',\n",
       " 'those',\n",
       " 'statements',\n",
       " 'are',\n",
       " 'true',\n",
       " ',',\n",
       " 'it',\n",
       " 'just',\n",
       " 'depends',\n",
       " 'on',\n",
       " 'what',\n",
       " 'flavor',\n",
       " 'of',\n",
       " 'ai',\n",
       " 'you',\n",
       " 'are',\n",
       " 'referring',\n",
       " 'to',\n",
       " '.']"
      ]
     },
     "execution_count": 30,
     "metadata": {},
     "output_type": "execute_result"
    }
   ],
   "source": [
    "token = nltk.word_tokenize(corpus.lower())\n",
    "token"
   ]
  },
  {
   "cell_type": "code",
   "execution_count": 32,
   "metadata": {},
   "outputs": [
    {
     "name": "stdout",
     "output_type": "stream",
     "text": [
      "Counter({('intelligence', 'is'): 3,\n",
      "         ('artificial', 'intelligence'): 2,\n",
      "         ('is', 'the'): 1,\n",
      "         ('the', 'future'): 1,\n",
      "         ('future', '.'): 1,\n",
      "         ('.', 'artificial'): 1,\n",
      "         ('is', 'science'): 1,\n",
      "         ('science', 'fiction.artificial'): 1,\n",
      "         ('fiction.artificial', 'intelligence'): 1,\n",
      "         ('is', 'already'): 1,\n",
      "         ('already', 'part'): 1,\n",
      "         ('part', 'of'): 1,\n",
      "         ('of', 'our'): 1,\n",
      "         ('our', 'everyday'): 1,\n",
      "         ('everyday', 'lives'): 1,\n",
      "         ('lives', '.'): 1,\n",
      "         ('.', 'all'): 1,\n",
      "         ('all', 'those'): 1,\n",
      "         ('those', 'statements'): 1,\n",
      "         ('statements', 'are'): 1,\n",
      "         ('are', 'true'): 1,\n",
      "         ('true', ','): 1,\n",
      "         (',', 'it'): 1,\n",
      "         ('it', 'just'): 1,\n",
      "         ('just', 'depends'): 1,\n",
      "         ('depends', 'on'): 1,\n",
      "         ('on', 'what'): 1,\n",
      "         ('what', 'flavor'): 1,\n",
      "         ('flavor', 'of'): 1,\n",
      "         ('of', 'ai'): 1,\n",
      "         ('ai', 'you'): 1,\n",
      "         ('you', 'are'): 1,\n",
      "         ('are', 'referring'): 1,\n",
      "         ('referring', 'to'): 1,\n",
      "         ('to', '.'): 1})\n"
     ]
    }
   ],
   "source": [
    "bigrams = ngrams(token,2)\n",
    "pprint(Counter(bigrams))"
   ]
  },
  {
   "cell_type": "code",
   "execution_count": 33,
   "metadata": {},
   "outputs": [
    {
     "name": "stdout",
     "output_type": "stream",
     "text": [
      "Counter({('artificial', 'intelligence', 'is'): 2,\n",
      "         ('intelligence', 'is', 'the'): 1,\n",
      "         ('is', 'the', 'future'): 1,\n",
      "         ('the', 'future', '.'): 1,\n",
      "         ('future', '.', 'artificial'): 1,\n",
      "         ('.', 'artificial', 'intelligence'): 1,\n",
      "         ('intelligence', 'is', 'science'): 1,\n",
      "         ('is', 'science', 'fiction.artificial'): 1,\n",
      "         ('science', 'fiction.artificial', 'intelligence'): 1,\n",
      "         ('fiction.artificial', 'intelligence', 'is'): 1,\n",
      "         ('intelligence', 'is', 'already'): 1,\n",
      "         ('is', 'already', 'part'): 1,\n",
      "         ('already', 'part', 'of'): 1,\n",
      "         ('part', 'of', 'our'): 1,\n",
      "         ('of', 'our', 'everyday'): 1,\n",
      "         ('our', 'everyday', 'lives'): 1,\n",
      "         ('everyday', 'lives', '.'): 1,\n",
      "         ('lives', '.', 'all'): 1,\n",
      "         ('.', 'all', 'those'): 1,\n",
      "         ('all', 'those', 'statements'): 1,\n",
      "         ('those', 'statements', 'are'): 1,\n",
      "         ('statements', 'are', 'true'): 1,\n",
      "         ('are', 'true', ','): 1,\n",
      "         ('true', ',', 'it'): 1,\n",
      "         (',', 'it', 'just'): 1,\n",
      "         ('it', 'just', 'depends'): 1,\n",
      "         ('just', 'depends', 'on'): 1,\n",
      "         ('depends', 'on', 'what'): 1,\n",
      "         ('on', 'what', 'flavor'): 1,\n",
      "         ('what', 'flavor', 'of'): 1,\n",
      "         ('flavor', 'of', 'ai'): 1,\n",
      "         ('of', 'ai', 'you'): 1,\n",
      "         ('ai', 'you', 'are'): 1,\n",
      "         ('you', 'are', 'referring'): 1,\n",
      "         ('are', 'referring', 'to'): 1,\n",
      "         ('referring', 'to', '.'): 1})\n"
     ]
    }
   ],
   "source": [
    "bigrams = ngrams(token,3)\n",
    "pprint(Counter(bigrams))"
   ]
  },
  {
   "cell_type": "code",
   "execution_count": 34,
   "metadata": {},
   "outputs": [
    {
     "name": "stdout",
     "output_type": "stream",
     "text": [
      "Counter({('artificial', 'intelligence', 'is', 'the'): 1,\n",
      "         ('intelligence', 'is', 'the', 'future'): 1,\n",
      "         ('is', 'the', 'future', '.'): 1,\n",
      "         ('the', 'future', '.', 'artificial'): 1,\n",
      "         ('future', '.', 'artificial', 'intelligence'): 1,\n",
      "         ('.', 'artificial', 'intelligence', 'is'): 1,\n",
      "         ('artificial', 'intelligence', 'is', 'science'): 1,\n",
      "         ('intelligence', 'is', 'science', 'fiction.artificial'): 1,\n",
      "         ('is', 'science', 'fiction.artificial', 'intelligence'): 1,\n",
      "         ('science', 'fiction.artificial', 'intelligence', 'is'): 1,\n",
      "         ('fiction.artificial', 'intelligence', 'is', 'already'): 1,\n",
      "         ('intelligence', 'is', 'already', 'part'): 1,\n",
      "         ('is', 'already', 'part', 'of'): 1,\n",
      "         ('already', 'part', 'of', 'our'): 1,\n",
      "         ('part', 'of', 'our', 'everyday'): 1,\n",
      "         ('of', 'our', 'everyday', 'lives'): 1,\n",
      "         ('our', 'everyday', 'lives', '.'): 1,\n",
      "         ('everyday', 'lives', '.', 'all'): 1,\n",
      "         ('lives', '.', 'all', 'those'): 1,\n",
      "         ('.', 'all', 'those', 'statements'): 1,\n",
      "         ('all', 'those', 'statements', 'are'): 1,\n",
      "         ('those', 'statements', 'are', 'true'): 1,\n",
      "         ('statements', 'are', 'true', ','): 1,\n",
      "         ('are', 'true', ',', 'it'): 1,\n",
      "         ('true', ',', 'it', 'just'): 1,\n",
      "         (',', 'it', 'just', 'depends'): 1,\n",
      "         ('it', 'just', 'depends', 'on'): 1,\n",
      "         ('just', 'depends', 'on', 'what'): 1,\n",
      "         ('depends', 'on', 'what', 'flavor'): 1,\n",
      "         ('on', 'what', 'flavor', 'of'): 1,\n",
      "         ('what', 'flavor', 'of', 'ai'): 1,\n",
      "         ('flavor', 'of', 'ai', 'you'): 1,\n",
      "         ('of', 'ai', 'you', 'are'): 1,\n",
      "         ('ai', 'you', 'are', 'referring'): 1,\n",
      "         ('you', 'are', 'referring', 'to'): 1,\n",
      "         ('are', 'referring', 'to', '.'): 1})\n"
     ]
    }
   ],
   "source": [
    "bigrams = ngrams(token,4)\n",
    "pprint(Counter(bigrams))"
   ]
  },
  {
   "cell_type": "code",
   "execution_count": 46,
   "metadata": {},
   "outputs": [],
   "source": [
    "from nltk.collocations import BigramCollocationFinder"
   ]
  },
  {
   "cell_type": "markdown",
   "metadata": {},
   "source": [
    "## continuar\n",
    "http://nlpforhackers.io/language-models/  \n",
    "https://github.com/kpu/kenlm"
   ]
  },
  {
   "cell_type": "code",
   "execution_count": null,
   "metadata": {
    "collapsed": true
   },
   "outputs": [],
   "source": []
  }
 ],
 "metadata": {
  "kernelspec": {
   "display_name": "Python 3",
   "language": "python",
   "name": "python3"
  },
  "language_info": {
   "codemirror_mode": {
    "name": "ipython",
    "version": 3
   },
   "file_extension": ".py",
   "mimetype": "text/x-python",
   "name": "python",
   "nbconvert_exporter": "python",
   "pygments_lexer": "ipython3",
   "version": "3.6.1+"
  }
 },
 "nbformat": 4,
 "nbformat_minor": 2
}
